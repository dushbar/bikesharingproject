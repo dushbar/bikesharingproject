{
 "cells": [
  {
   "cell_type": "code",
   "execution_count": 1,
   "id": "1bec52bf-0f38-4896-b4e5-2b22d8c8630e",
   "metadata": {},
   "outputs": [],
   "source": [
    "import pandas as pd\n",
    "import numpy as np\n",
    "import seaborn as sns\n",
    "import matplotlib.pyplot as plt\n",
    "\n",
    "# Hiding warnings \n",
    "import warnings\n",
    "warnings.filterwarnings(\"ignore\")"
   ]
  },
  {
   "cell_type": "code",
   "execution_count": 2,
   "id": "23a03d9f-8520-40ba-9fce-29ed1783eef8",
   "metadata": {},
   "outputs": [
    {
     "data": {
      "text/html": [
       "<div>\n",
       "<style scoped>\n",
       "    .dataframe tbody tr th:only-of-type {\n",
       "        vertical-align: middle;\n",
       "    }\n",
       "\n",
       "    .dataframe tbody tr th {\n",
       "        vertical-align: top;\n",
       "    }\n",
       "\n",
       "    .dataframe thead th {\n",
       "        text-align: right;\n",
       "    }\n",
       "</style>\n",
       "<table border=\"1\" class=\"dataframe\">\n",
       "  <thead>\n",
       "    <tr style=\"text-align: right;\">\n",
       "      <th></th>\n",
       "      <th>instant</th>\n",
       "      <th>dteday</th>\n",
       "      <th>season</th>\n",
       "      <th>yr</th>\n",
       "      <th>mnth</th>\n",
       "      <th>holiday</th>\n",
       "      <th>weekday</th>\n",
       "      <th>workingday</th>\n",
       "      <th>weathersit</th>\n",
       "      <th>temp</th>\n",
       "      <th>atemp</th>\n",
       "      <th>hum</th>\n",
       "      <th>windspeed</th>\n",
       "      <th>casual</th>\n",
       "      <th>registered</th>\n",
       "      <th>cnt</th>\n",
       "    </tr>\n",
       "  </thead>\n",
       "  <tbody>\n",
       "    <tr>\n",
       "      <th>0</th>\n",
       "      <td>1</td>\n",
       "      <td>2011-01-01</td>\n",
       "      <td>1</td>\n",
       "      <td>0</td>\n",
       "      <td>1</td>\n",
       "      <td>0</td>\n",
       "      <td>6</td>\n",
       "      <td>0</td>\n",
       "      <td>2</td>\n",
       "      <td>0.344167</td>\n",
       "      <td>0.363625</td>\n",
       "      <td>0.805833</td>\n",
       "      <td>0.160446</td>\n",
       "      <td>331</td>\n",
       "      <td>654</td>\n",
       "      <td>985</td>\n",
       "    </tr>\n",
       "    <tr>\n",
       "      <th>1</th>\n",
       "      <td>2</td>\n",
       "      <td>2011-01-02</td>\n",
       "      <td>1</td>\n",
       "      <td>0</td>\n",
       "      <td>1</td>\n",
       "      <td>0</td>\n",
       "      <td>0</td>\n",
       "      <td>0</td>\n",
       "      <td>2</td>\n",
       "      <td>0.363478</td>\n",
       "      <td>0.353739</td>\n",
       "      <td>0.696087</td>\n",
       "      <td>0.248539</td>\n",
       "      <td>131</td>\n",
       "      <td>670</td>\n",
       "      <td>801</td>\n",
       "    </tr>\n",
       "    <tr>\n",
       "      <th>2</th>\n",
       "      <td>3</td>\n",
       "      <td>2011-01-03</td>\n",
       "      <td>1</td>\n",
       "      <td>0</td>\n",
       "      <td>1</td>\n",
       "      <td>0</td>\n",
       "      <td>1</td>\n",
       "      <td>1</td>\n",
       "      <td>1</td>\n",
       "      <td>0.196364</td>\n",
       "      <td>0.189405</td>\n",
       "      <td>0.437273</td>\n",
       "      <td>0.248309</td>\n",
       "      <td>120</td>\n",
       "      <td>1229</td>\n",
       "      <td>1349</td>\n",
       "    </tr>\n",
       "    <tr>\n",
       "      <th>3</th>\n",
       "      <td>4</td>\n",
       "      <td>2011-01-04</td>\n",
       "      <td>1</td>\n",
       "      <td>0</td>\n",
       "      <td>1</td>\n",
       "      <td>0</td>\n",
       "      <td>2</td>\n",
       "      <td>1</td>\n",
       "      <td>1</td>\n",
       "      <td>0.200000</td>\n",
       "      <td>0.212122</td>\n",
       "      <td>0.590435</td>\n",
       "      <td>0.160296</td>\n",
       "      <td>108</td>\n",
       "      <td>1454</td>\n",
       "      <td>1562</td>\n",
       "    </tr>\n",
       "    <tr>\n",
       "      <th>4</th>\n",
       "      <td>5</td>\n",
       "      <td>2011-01-05</td>\n",
       "      <td>1</td>\n",
       "      <td>0</td>\n",
       "      <td>1</td>\n",
       "      <td>0</td>\n",
       "      <td>3</td>\n",
       "      <td>1</td>\n",
       "      <td>1</td>\n",
       "      <td>0.226957</td>\n",
       "      <td>0.229270</td>\n",
       "      <td>0.436957</td>\n",
       "      <td>0.186900</td>\n",
       "      <td>82</td>\n",
       "      <td>1518</td>\n",
       "      <td>1600</td>\n",
       "    </tr>\n",
       "  </tbody>\n",
       "</table>\n",
       "</div>"
      ],
      "text/plain": [
       "   instant      dteday  season  yr  mnth  holiday  weekday  workingday  \\\n",
       "0        1  2011-01-01       1   0     1        0        6           0   \n",
       "1        2  2011-01-02       1   0     1        0        0           0   \n",
       "2        3  2011-01-03       1   0     1        0        1           1   \n",
       "3        4  2011-01-04       1   0     1        0        2           1   \n",
       "4        5  2011-01-05       1   0     1        0        3           1   \n",
       "\n",
       "   weathersit      temp     atemp       hum  windspeed  casual  registered  \\\n",
       "0           2  0.344167  0.363625  0.805833   0.160446     331         654   \n",
       "1           2  0.363478  0.353739  0.696087   0.248539     131         670   \n",
       "2           1  0.196364  0.189405  0.437273   0.248309     120        1229   \n",
       "3           1  0.200000  0.212122  0.590435   0.160296     108        1454   \n",
       "4           1  0.226957  0.229270  0.436957   0.186900      82        1518   \n",
       "\n",
       "    cnt  \n",
       "0   985  \n",
       "1   801  \n",
       "2  1349  \n",
       "3  1562  \n",
       "4  1600  "
      ]
     },
     "execution_count": 2,
     "metadata": {},
     "output_type": "execute_result"
    }
   ],
   "source": [
    "data = pd.read_csv('bikesharing_day.csv')\n",
    "data.head()"
   ]
  },
  {
   "cell_type": "code",
   "execution_count": 3,
   "id": "7913ded6-faa3-4211-8c69-977364e898d9",
   "metadata": {},
   "outputs": [
    {
     "data": {
      "text/plain": [
       "(731, 16)"
      ]
     },
     "execution_count": 3,
     "metadata": {},
     "output_type": "execute_result"
    }
   ],
   "source": [
    "data.shape"
   ]
  },
  {
   "cell_type": "code",
   "execution_count": 4,
   "id": "d28f1e35-5bd2-4d07-8f72-d9d3d1f464d6",
   "metadata": {},
   "outputs": [
    {
     "data": {
      "text/plain": [
       "instant       0\n",
       "dteday        0\n",
       "season        0\n",
       "yr            0\n",
       "mnth          0\n",
       "holiday       0\n",
       "weekday       0\n",
       "workingday    0\n",
       "weathersit    0\n",
       "temp          0\n",
       "atemp         0\n",
       "hum           0\n",
       "windspeed     0\n",
       "casual        0\n",
       "registered    0\n",
       "cnt           0\n",
       "dtype: int64"
      ]
     },
     "execution_count": 4,
     "metadata": {},
     "output_type": "execute_result"
    }
   ],
   "source": [
    "#checking for null values\n",
    "data.isnull().sum()"
   ]
  },
  {
   "cell_type": "markdown",
   "id": "0e97fd99-ed5c-473b-8b68-422db958faab",
   "metadata": {},
   "source": [
    "# EDA"
   ]
  },
  {
   "cell_type": "code",
   "execution_count": 6,
   "id": "65d47a3c-6640-4613-be13-d961700a23ee",
   "metadata": {},
   "outputs": [
    {
     "data": {
      "image/png": "[encoded data removed]",
      "text/plain": [
       "<Figure size 640x480 with 1 Axes>"
      ]
     },
     "metadata": {},
     "output_type": "display_data"
    }
   ],
   "source": [
    "# let us look at the distribution of bike rentals with a histogram\n",
    "sns.histplot(x = 'cnt', data = data)\n",
    "plt.xlabel('Bike rentals')\n",
    "plt.ylabel('Count')\n",
    "plt.title('Distribution of bike rentals')\n",
    "plt.show()"
   ]
  },
  {
   "cell_type": "code",
   "execution_count": 7,
   "id": "a61b8bf6-ef6a-485e-a995-34bd521144c1",
   "metadata": {},
   "outputs": [
    {
     "data": {
      "image/png": "[encoded data removed]",
      "text/plain": [
       "<Figure size 640x480 with 1 Axes>"
      ]
     },
     "metadata": {},
     "output_type": "display_data"
    }
   ],
   "source": [
    "# let us see how weather affects bike rentals using box plots\n",
    "sns.boxplot(x=\"weathersit\",y=\"cnt\",data=data)\n",
    "plt.ylabel('Count')\n",
    "plt.show()\n",
    "# 1: Good weather conditions.\n",
    "# 2: Moderate weather conditions.\n",
    "# 3: Poor weather conditions.\n",
    "# we see highest bike rentals in good weather and lowest in poor weather as expected."
   ]
  },
  {
   "cell_type": "code",
   "execution_count": 8,
   "id": "eb5dcd5d-6ac2-477a-882d-e28437fc66c6",
   "metadata": {},
   "outputs": [
    {
     "data": {
      "image/png": "[encoded data removed]",
      "text/plain": [
       "<Figure size 640x480 with 1 Axes>"
      ]
     },
     "metadata": {},
     "output_type": "display_data"
    }
   ],
   "source": [
    "# now let us look at bike rentals distribution with season.\n",
    "# 1:winter, 2:spring, 3:summer, 4:fall\t\n",
    "sns.boxplot(x=\"season\",y=\"cnt\",data=data)\n",
    "plt.ylabel('Count')\n",
    "plt.show()"
   ]
  },
  {
   "cell_type": "code",
   "execution_count": 9,
   "id": "cfaaab85-73d7-45a1-879f-3c8314da0038",
   "metadata": {},
   "outputs": [
    {
     "data": {
      "text/plain": [
       "weathersit\n",
       "1    4877.0\n",
       "2    4036.0\n",
       "3    1803.0\n",
       "Name: cnt, dtype: float64"
      ]
     },
     "execution_count": 9,
     "metadata": {},
     "output_type": "execute_result"
    }
   ],
   "source": [
    "data.groupby('weathersit')['cnt'].mean().round(0)\n",
    "# 1: Good weather conditions. 2: Moderate weather conditions. 3: Poor weather conditions.\n",
    "# clearly weather situation has an impact on bike rentals"
   ]
  },
  {
   "cell_type": "code",
   "execution_count": 10,
   "id": "2f52948d-d625-4270-adc6-20af4b02e4e5",
   "metadata": {},
   "outputs": [
    {
     "data": {
      "image/png": "[encoded data removed]",
      "text/plain": [
       "<Figure size 640x480 with 1 Axes>"
      ]
     },
     "metadata": {},
     "output_type": "display_data"
    }
   ],
   "source": [
    "# we further look at affect of weather by looking at scatterplot of bike rentals vs temperature(temp)\n",
    "sns.scatterplot(x = 'temp', y= 'cnt', data = data)\n",
    "plt.ylabel('Count')\n",
    "plt.show()"
   ]
  },
  {
   "cell_type": "code",
   "execution_count": 11,
   "id": "68d44923-8792-41ea-92ea-5064ccef81b8",
   "metadata": {},
   "outputs": [
    {
     "data": {
      "image/png": "[encoded data removed]",
      "text/plain": [
       "<Figure size 640x480 with 1 Axes>"
      ]
     },
     "metadata": {},
     "output_type": "display_data"
    }
   ],
   "source": [
    "# we further look at affect of weather by looking at scatterplot of bike rentals vs feeling temperature(atemp)\n",
    "sns.scatterplot(x = 'atemp', y= 'cnt', data = data)\n",
    "plt.ylabel('Count')\n",
    "plt.show()"
   ]
  },
  {
   "cell_type": "code",
   "execution_count": 12,
   "id": "2e7fbc9f-2a8b-43a1-a5c7-8cc44991ba0f",
   "metadata": {},
   "outputs": [],
   "source": [
    "# in above two plots we again see that at low temperatures the bike rentals are lower."
   ]
  },
  {
   "cell_type": "code",
   "execution_count": 13,
   "id": "3a01cbc2-c2fa-4db3-92a1-6d1f29d65a5c",
   "metadata": {},
   "outputs": [
    {
     "data": {
      "image/png": "[encoded data removed]",
      "text/plain": [
       "<Figure size 640x480 with 1 Axes>"
      ]
     },
     "metadata": {},
     "output_type": "display_data"
    }
   ],
   "source": [
    "# Windspeed is another factor that affects weather so let us now look at how windspeed affects bike rentals.\n",
    "sns.scatterplot(x = 'windspeed', y= 'cnt', data = data)\n",
    "plt.ylabel('Count')\n",
    "plt.show()\n",
    "# we see most bike rentals as low wind speeds and few at higher speeds."
   ]
  },
  {
   "cell_type": "code",
   "execution_count": 14,
   "id": "3bb0b94f-dc65-46f8-89f9-ea42349b9bf1",
   "metadata": {},
   "outputs": [
    {
     "data": {
      "image/png": "[encoded data removed]",
      "text/plain": [
       "<Figure size 640x480 with 1 Axes>"
      ]
     },
     "metadata": {},
     "output_type": "display_data"
    }
   ],
   "source": [
    "# we see now variation with holiday\n",
    "# we see more rentals on holiday\n",
    "sns.boxplot(x='holiday', y= 'cnt', data = data)\n",
    "plt.ylabel('Count')\n",
    "plt.show()"
   ]
  },
  {
   "cell_type": "code",
   "execution_count": 15,
   "id": "d64981f3-8e54-45e6-9f1e-b7e72d373ebe",
   "metadata": {},
   "outputs": [
    {
     "data": {
      "image/png": "[encoded data removed]",
      "text/plain": [
       "<Figure size 640x480 with 1 Axes>"
      ]
     },
     "metadata": {},
     "output_type": "display_data"
    }
   ],
   "source": [
    "# we now see variation with workingday\n",
    "# we see less rentals on working day i.e. neither holiday or weekend\n",
    "sns.boxplot(x='workingday', y= 'cnt', data = data)\n",
    "plt.ylabel('Count')\n",
    "plt.show()"
   ]
  },
  {
   "cell_type": "code",
   "execution_count": 16,
   "id": "7f353565-0291-4a4d-aac2-d05830d57d89",
   "metadata": {},
   "outputs": [
    {
     "data": {
      "image/png": "[encoded data removed]",
      "text/plain": [
       "<Figure size 640x480 with 1 Axes>"
      ]
     },
     "metadata": {},
     "output_type": "display_data"
    }
   ],
   "source": [
    "# we now see variation with weekday\n",
    "# we see not a lot of variation with weekday so will not consider this variable in our analysis\n",
    "sns.boxplot(x='weekday', y= 'cnt', data = data)\n",
    "plt.ylabel('Count')\n",
    "plt.show()"
   ]
  },
  {
   "cell_type": "markdown",
   "id": "1a79a675-480d-4247-8f48-53819df045d1",
   "metadata": {},
   "source": [
    "# Modelling"
   ]
  },
  {
   "cell_type": "code",
   "execution_count": 18,
   "id": "c6d64ef9-803d-4b98-9cbb-cfbbe357e9b2",
   "metadata": {},
   "outputs": [
    {
     "data": {
      "text/html": [
       "<div>\n",
       "<style scoped>\n",
       "    .dataframe tbody tr th:only-of-type {\n",
       "        vertical-align: middle;\n",
       "    }\n",
       "\n",
       "    .dataframe tbody tr th {\n",
       "        vertical-align: top;\n",
       "    }\n",
       "\n",
       "    .dataframe thead th {\n",
       "        text-align: right;\n",
       "    }\n",
       "</style>\n",
       "<table border=\"1\" class=\"dataframe\">\n",
       "  <thead>\n",
       "    <tr style=\"text-align: right;\">\n",
       "      <th></th>\n",
       "      <th>season</th>\n",
       "      <th>workingday</th>\n",
       "      <th>weathersit</th>\n",
       "      <th>temp</th>\n",
       "      <th>hum</th>\n",
       "      <th>windspeed</th>\n",
       "      <th>cnt</th>\n",
       "    </tr>\n",
       "  </thead>\n",
       "  <tbody>\n",
       "    <tr>\n",
       "      <th>0</th>\n",
       "      <td>1</td>\n",
       "      <td>0</td>\n",
       "      <td>2</td>\n",
       "      <td>0.344167</td>\n",
       "      <td>0.805833</td>\n",
       "      <td>0.160446</td>\n",
       "      <td>985</td>\n",
       "    </tr>\n",
       "    <tr>\n",
       "      <th>1</th>\n",
       "      <td>1</td>\n",
       "      <td>0</td>\n",
       "      <td>2</td>\n",
       "      <td>0.363478</td>\n",
       "      <td>0.696087</td>\n",
       "      <td>0.248539</td>\n",
       "      <td>801</td>\n",
       "    </tr>\n",
       "    <tr>\n",
       "      <th>2</th>\n",
       "      <td>1</td>\n",
       "      <td>1</td>\n",
       "      <td>1</td>\n",
       "      <td>0.196364</td>\n",
       "      <td>0.437273</td>\n",
       "      <td>0.248309</td>\n",
       "      <td>1349</td>\n",
       "    </tr>\n",
       "    <tr>\n",
       "      <th>3</th>\n",
       "      <td>1</td>\n",
       "      <td>1</td>\n",
       "      <td>1</td>\n",
       "      <td>0.200000</td>\n",
       "      <td>0.590435</td>\n",
       "      <td>0.160296</td>\n",
       "      <td>1562</td>\n",
       "    </tr>\n",
       "    <tr>\n",
       "      <th>4</th>\n",
       "      <td>1</td>\n",
       "      <td>1</td>\n",
       "      <td>1</td>\n",
       "      <td>0.226957</td>\n",
       "      <td>0.436957</td>\n",
       "      <td>0.186900</td>\n",
       "      <td>1600</td>\n",
       "    </tr>\n",
       "  </tbody>\n",
       "</table>\n",
       "</div>"
      ],
      "text/plain": [
       "   season  workingday  weathersit      temp       hum  windspeed   cnt\n",
       "0       1           0           2  0.344167  0.805833   0.160446   985\n",
       "1       1           0           2  0.363478  0.696087   0.248539   801\n",
       "2       1           1           1  0.196364  0.437273   0.248309  1349\n",
       "3       1           1           1  0.200000  0.590435   0.160296  1562\n",
       "4       1           1           1  0.226957  0.436957   0.186900  1600"
      ]
     },
     "execution_count": 18,
     "metadata": {},
     "output_type": "execute_result"
    }
   ],
   "source": [
    "#we will drop other variables like instant, dteday, yr, mnth,casual, registered\t and weekday because they don't seem to be relevant to prediction\n",
    "data = data[[\"season\", \"workingday\", \"weathersit\", \"temp\", \"hum\", \"windspeed\", \"cnt\"]]\n",
    "data.head()"
   ]
  },
  {
   "cell_type": "markdown",
   "id": "290f0f22-0497-486a-b886-f8501c5ea30f",
   "metadata": {},
   "source": [
    "## Implement the VIF method to select features"
   ]
  },
  {
   "cell_type": "code",
   "execution_count": 20,
   "id": "fcf6d962-00ca-4f8f-80a0-71fc93154d78",
   "metadata": {},
   "outputs": [
    {
     "name": "stdout",
     "output_type": "stream",
     "text": [
      "      feature        VIF\n",
      "0      season   6.915167\n",
      "1  workingday   3.067397\n",
      "2  weathersit  12.990600\n",
      "3        temp   9.103080\n",
      "4         hum  25.048640\n",
      "5   windspeed   5.024767\n"
     ]
    }
   ],
   "source": [
    "# VIF -> Variance inflation factor to remove variables which are not significant\n",
    "\n",
    "from statsmodels.stats.outliers_influence import variance_inflation_factor\n",
    "\n",
    "col_list = []\n",
    "\n",
    "for i in data.columns:\n",
    "  if i != \"cnt\":\n",
    "    col_list.append(i)\n",
    "\n",
    "X = data[col_list]\n",
    "vif_data = pd.DataFrame()\n",
    "vif_data[\"feature\"] = X.columns\n",
    "vif_data[\"VIF\"] = [variance_inflation_factor(X.values, i) for i in range(len(X.columns))]\n",
    "print(vif_data)"
   ]
  },
  {
   "cell_type": "code",
   "execution_count": 21,
   "id": "762893f8-bf1b-41e6-bf50-adfcce3e7c56",
   "metadata": {},
   "outputs": [],
   "source": [
    "# hum has a very high VIF so we first remove that and carry out the above process again. VIF greater than 10 is considered very high and indicates high-multicollinearity"
   ]
  },
  {
   "cell_type": "code",
   "execution_count": 22,
   "id": "6cda7339-6385-444e-b38b-242e2665fcba",
   "metadata": {},
   "outputs": [],
   "source": [
    "data = data.drop(['hum'], axis = 1)"
   ]
  },
  {
   "cell_type": "code",
   "execution_count": 23,
   "id": "fd1b6ab8-5672-4e25-9128-7585079c6f5d",
   "metadata": {},
   "outputs": [
    {
     "name": "stdout",
     "output_type": "stream",
     "text": [
      "      feature       VIF\n",
      "0      season  6.301390\n",
      "1  workingday  3.036749\n",
      "2  weathersit  5.954014\n",
      "3        temp  7.432676\n",
      "4   windspeed  4.962825\n"
     ]
    }
   ],
   "source": [
    "col_list = []\n",
    "\n",
    "for i in data.columns:\n",
    "  if i != \"cnt\":\n",
    "    col_list.append(i)\n",
    "\n",
    "X = data[col_list]\n",
    "vif_data = pd.DataFrame()\n",
    "vif_data[\"feature\"] = X.columns\n",
    "vif_data[\"VIF\"] = [variance_inflation_factor(X.values, i) for i in range(len(X.columns))]\n",
    "print(vif_data)"
   ]
  },
  {
   "cell_type": "code",
   "execution_count": 24,
   "id": "c9df1e54-4899-4e3f-b2c9-a2dab1879528",
   "metadata": {},
   "outputs": [],
   "source": [
    "# VIF values are not very high now. So we can continue with model building now"
   ]
  },
  {
   "cell_type": "markdown",
   "id": "090210b5-9c3b-436d-b61b-18da45254245",
   "metadata": {},
   "source": [
    "Features we are left with are: season, workingday, weathersit, temp, windspeed"
   ]
  },
  {
   "cell_type": "code",
   "execution_count": 26,
   "id": "a510ffaa-6d50-4ae4-ba74-23b35fb5fd96",
   "metadata": {},
   "outputs": [],
   "source": [
    "from sklearn.model_selection import train_test_split\n",
    "from sklearn.linear_model import LinearRegression"
   ]
  },
  {
   "cell_type": "code",
   "execution_count": 27,
   "id": "1c2ac6d2-fe48-4459-9140-721bfe4f3db5",
   "metadata": {},
   "outputs": [],
   "source": [
    "X = data.drop(['cnt'], axis = 1)\n",
    "y = data[['cnt']]"
   ]
  },
  {
   "cell_type": "code",
   "execution_count": 28,
   "id": "ec528ef6-7858-42b1-bac3-8dd5b9327c4d",
   "metadata": {},
   "outputs": [],
   "source": [
    "X_train, X_test, y_train, y_test = train_test_split(X, y, random_state= 42, test_size= 0.2)"
   ]
  },
  {
   "cell_type": "code",
   "execution_count": 29,
   "id": "4a62aec7-07c1-43a8-9f36-561b40d3a332",
   "metadata": {},
   "outputs": [],
   "source": [
    "LR = LinearRegression()"
   ]
  },
  {
   "cell_type": "code",
   "execution_count": 30,
   "id": "3a94bce4-7447-43cf-8722-fea6e3654628",
   "metadata": {},
   "outputs": [
    {
     "data": {
      "text/html": [
       "<style>#sk-container-id-1 {color: black;background-color: white;}#sk-container-id-1 pre{padding: 0;}#sk-container-id-1 div.sk-toggleable {background-color: white;}#sk-container-id-1 label.sk-toggleable__label {cursor: pointer;display: block;width: 100%;margin-bottom: 0;padding: 0.3em;box-sizing: border-box;text-align: center;}#sk-container-id-1 label.sk-toggleable__label-arrow:before {content: \"▸\";float: left;margin-right: 0.25em;color: #696969;}#sk-container-id-1 label.sk-toggleable__label-arrow:hover:before {color: black;}#sk-container-id-1 div.sk-estimator:hover label.sk-toggleable__label-arrow:before {color: black;}#sk-container-id-1 div.sk-toggleable__content {max-height: 0;max-width: 0;overflow: hidden;text-align: left;background-color: #f0f8ff;}#sk-container-id-1 div.sk-toggleable__content pre {margin: 0.2em;color: black;border-radius: 0.25em;background-color: #f0f8ff;}#sk-container-id-1 input.sk-toggleable__control:checked~div.sk-toggleable__content {max-height: 200px;max-width: 100%;overflow: auto;}#sk-container-id-1 input.sk-toggleable__control:checked~label.sk-toggleable__label-arrow:before {content: \"▾\";}#sk-container-id-1 div.sk-estimator input.sk-toggleable__control:checked~label.sk-toggleable__label {background-color: #d4ebff;}#sk-container-id-1 div.sk-label input.sk-toggleable__control:checked~label.sk-toggleable__label {background-color: #d4ebff;}#sk-container-id-1 input.sk-hidden--visually {border: 0;clip: rect(1px 1px 1px 1px);clip: rect(1px, 1px, 1px, 1px);height: 1px;margin: -1px;overflow: hidden;padding: 0;position: absolute;width: 1px;}#sk-container-id-1 div.sk-estimator {font-family: monospace;background-color: #f0f8ff;border: 1px dotted black;border-radius: 0.25em;box-sizing: border-box;margin-bottom: 0.5em;}#sk-container-id-1 div.sk-estimator:hover {background-color: #d4ebff;}#sk-container-id-1 div.sk-parallel-item::after {content: \"\";width: 100%;border-bottom: 1px solid gray;flex-grow: 1;}#sk-container-id-1 div.sk-label:hover label.sk-toggleable__label {background-color: #d4ebff;}#sk-container-id-1 div.sk-serial::before {content: \"\";position: absolute;border-left: 1px solid gray;box-sizing: border-box;top: 0;bottom: 0;left: 50%;z-index: 0;}#sk-container-id-1 div.sk-serial {display: flex;flex-direction: column;align-items: center;background-color: white;padding-right: 0.2em;padding-left: 0.2em;position: relative;}#sk-container-id-1 div.sk-item {position: relative;z-index: 1;}#sk-container-id-1 div.sk-parallel {display: flex;align-items: stretch;justify-content: center;background-color: white;position: relative;}#sk-container-id-1 div.sk-item::before, #sk-container-id-1 div.sk-parallel-item::before {content: \"\";position: absolute;border-left: 1px solid gray;box-sizing: border-box;top: 0;bottom: 0;left: 50%;z-index: -1;}#sk-container-id-1 div.sk-parallel-item {display: flex;flex-direction: column;z-index: 1;position: relative;background-color: white;}#sk-container-id-1 div.sk-parallel-item:first-child::after {align-self: flex-end;width: 50%;}#sk-container-id-1 div.sk-parallel-item:last-child::after {align-self: flex-start;width: 50%;}#sk-container-id-1 div.sk-parallel-item:only-child::after {width: 0;}#sk-container-id-1 div.sk-dashed-wrapped {border: 1px dashed gray;margin: 0 0.4em 0.5em 0.4em;box-sizing: border-box;padding-bottom: 0.4em;background-color: white;}#sk-container-id-1 div.sk-label label {font-family: monospace;font-weight: bold;display: inline-block;line-height: 1.2em;}#sk-container-id-1 div.sk-label-container {text-align: center;}#sk-container-id-1 div.sk-container {/* jupyter's `normalize.less` sets `[hidden] { display: none; }` but bootstrap.min.css set `[hidden] { display: none !important; }` so we also need the `!important` here to be able to override the default hidden behavior on the sphinx rendered scikit-learn.org. See: https://github.com/scikit-learn/scikit-learn/issues/21755 */display: inline-block !important;position: relative;}#sk-container-id-1 div.sk-text-repr-fallback {display: none;}</style><div id=\"sk-container-id-1\" class=\"sk-top-container\"><div class=\"sk-text-repr-fallback\"><pre>LinearRegression()</pre><b>In a Jupyter environment, please rerun this cell to show the HTML representation or trust the notebook. <br />On GitHub, the HTML representation is unable to render, please try loading this page with nbviewer.org.</b></div><div class=\"sk-container\" hidden><div class=\"sk-item\"><div class=\"sk-estimator sk-toggleable\"><input class=\"sk-toggleable__control sk-hidden--visually\" id=\"sk-estimator-id-1\" type=\"checkbox\" checked><label for=\"sk-estimator-id-1\" class=\"sk-toggleable__label sk-toggleable__label-arrow\">LinearRegression</label><div class=\"sk-toggleable__content\"><pre>LinearRegression()</pre></div></div></div></div></div>"
      ],
      "text/plain": [
       "LinearRegression()"
      ]
     },
     "execution_count": 30,
     "metadata": {},
     "output_type": "execute_result"
    }
   ],
   "source": [
    "LR.fit(X_train, y_train)"
   ]
  },
  {
   "cell_type": "code",
   "execution_count": 31,
   "id": "06cee027-46fc-477d-9ceb-338e33b55758",
   "metadata": {},
   "outputs": [],
   "source": [
    "y_pred = LR.predict(X_test)"
   ]
  },
  {
   "cell_type": "code",
   "execution_count": 32,
   "id": "3f49151c-1076-49b3-8f00-ab99149b2751",
   "metadata": {},
   "outputs": [
    {
     "data": {
      "text/plain": [
       "0.521324360683709"
      ]
     },
     "execution_count": 32,
     "metadata": {},
     "output_type": "execute_result"
    }
   ],
   "source": [
    "from sklearn.metrics import r2_score\n",
    "r2_score(y_test, y_pred)"
   ]
  },
  {
   "cell_type": "code",
   "execution_count": 33,
   "id": "13254675-6458-4422-93bd-6116905ffae4",
   "metadata": {},
   "outputs": [
    {
     "data": {
      "text/plain": [
       "0.5043500472327767"
      ]
     },
     "execution_count": 33,
     "metadata": {},
     "output_type": "execute_result"
    }
   ],
   "source": [
    "adjusted_r2_score = 1 - ( 1-r2_score(y_test, y_pred) ) * ( len(y_pred) - 1 ) / ( len(y_pred) - X_train.shape[1] - 1 )\n",
    "adjusted_r2_score"
   ]
  },
  {
   "cell_type": "markdown",
   "id": "bd02da5e-452e-4367-b296-5f5da9a8f69c",
   "metadata": {},
   "source": [
    "## Implement the Backward elimination method to select features"
   ]
  },
  {
   "cell_type": "code",
   "execution_count": 35,
   "id": "c074520c-8a59-49f0-a80d-cb079dff606b",
   "metadata": {},
   "outputs": [],
   "source": [
    "data = pd.read_csv('bikesharing_day.csv')\n",
    "data = data.drop(['instant', 'dteday', 'yr', 'mnth', 'casual', 'registered', 'weekday'], axis = 1)\n",
    "\n",
    "X = data.drop(['cnt'], axis = 1)\n",
    "y = data[['cnt']]"
   ]
  },
  {
   "cell_type": "code",
   "execution_count": 36,
   "id": "7deec4a3-d7a3-4474-9288-24e8a15406dc",
   "metadata": {},
   "outputs": [],
   "source": [
    "X_train, X_test, y_train, y_test = train_test_split(X, y, random_state= 42, test_size= 0.2)"
   ]
  },
  {
   "cell_type": "code",
   "execution_count": 37,
   "id": "24c25ba6-34b4-47ce-b483-773bc1d73795",
   "metadata": {},
   "outputs": [
    {
     "data": {
      "text/plain": [
       "(584, 8)"
      ]
     },
     "execution_count": 37,
     "metadata": {},
     "output_type": "execute_result"
    }
   ],
   "source": [
    "X_train.shape"
   ]
  },
  {
   "cell_type": "code",
   "execution_count": 38,
   "id": "a6aaae46-c2c2-454b-9cf2-330b54bad7d6",
   "metadata": {},
   "outputs": [
    {
     "data": {
      "text/plain": [
       "Index(['season', 'holiday', 'workingday', 'weathersit', 'temp', 'atemp', 'hum',\n",
       "       'windspeed'],\n",
       "      dtype='object')"
      ]
     },
     "execution_count": 38,
     "metadata": {},
     "output_type": "execute_result"
    }
   ],
   "source": [
    "X_train.columns"
   ]
  },
  {
   "cell_type": "code",
   "execution_count": 39,
   "id": "5be40541-a4f8-4a0f-9bab-27432152a8b2",
   "metadata": {},
   "outputs": [
    {
     "data": {
      "text/html": [
       "<table class=\"simpletable\">\n",
       "<caption>OLS Regression Results</caption>\n",
       "<tr>\n",
       "  <th>Dep. Variable:</th>           <td>cnt</td>       <th>  R-squared:         </th> <td>   0.513</td> \n",
       "</tr>\n",
       "<tr>\n",
       "  <th>Model:</th>                   <td>OLS</td>       <th>  Adj. R-squared:    </th> <td>   0.506</td> \n",
       "</tr>\n",
       "<tr>\n",
       "  <th>Method:</th>             <td>Least Squares</td>  <th>  F-statistic:       </th> <td>   75.71</td> \n",
       "</tr>\n",
       "<tr>\n",
       "  <th>Date:</th>             <td>Sun, 05 Jan 2025</td> <th>  Prob (F-statistic):</th> <td>8.05e-85</td> \n",
       "</tr>\n",
       "<tr>\n",
       "  <th>Time:</th>                 <td>16:33:13</td>     <th>  Log-Likelihood:    </th> <td> -5032.0</td> \n",
       "</tr>\n",
       "<tr>\n",
       "  <th>No. Observations:</th>      <td>   584</td>      <th>  AIC:               </th> <td>1.008e+04</td>\n",
       "</tr>\n",
       "<tr>\n",
       "  <th>Df Residuals:</th>          <td>   575</td>      <th>  BIC:               </th> <td>1.012e+04</td>\n",
       "</tr>\n",
       "<tr>\n",
       "  <th>Df Model:</th>              <td>     8</td>      <th>                     </th>     <td> </td>    \n",
       "</tr>\n",
       "<tr>\n",
       "  <th>Covariance Type:</th>      <td>nonrobust</td>    <th>                     </th>     <td> </td>    \n",
       "</tr>\n",
       "</table>\n",
       "<table class=\"simpletable\">\n",
       "<tr>\n",
       "    <td></td>       <th>coef</th>     <th>std err</th>      <th>t</th>      <th>P>|t|</th>  <th>[0.025</th>    <th>0.975]</th>  \n",
       "</tr>\n",
       "<tr>\n",
       "  <th>const</th> <td> 3135.6300</td> <td>  391.061</td> <td>    8.018</td> <td> 0.000</td> <td> 2367.548</td> <td> 3903.712</td>\n",
       "</tr>\n",
       "<tr>\n",
       "  <th>x1</th>    <td>  418.1147</td> <td>   55.257</td> <td>    7.567</td> <td> 0.000</td> <td>  309.585</td> <td>  526.644</td>\n",
       "</tr>\n",
       "<tr>\n",
       "  <th>x2</th>    <td> -504.3166</td> <td>  362.671</td> <td>   -1.391</td> <td> 0.165</td> <td>-1216.638</td> <td>  208.005</td>\n",
       "</tr>\n",
       "<tr>\n",
       "  <th>x3</th>    <td>  130.1999</td> <td>  122.550</td> <td>    1.062</td> <td> 0.288</td> <td> -110.500</td> <td>  370.900</td>\n",
       "</tr>\n",
       "<tr>\n",
       "  <th>x4</th>    <td> -480.8428</td> <td>  133.048</td> <td>   -3.614</td> <td> 0.000</td> <td> -742.163</td> <td> -219.523</td>\n",
       "</tr>\n",
       "<tr>\n",
       "  <th>x5</th>    <td> 2815.6283</td> <td> 2251.031</td> <td>    1.251</td> <td> 0.212</td> <td>-1605.617</td> <td> 7236.874</td>\n",
       "</tr>\n",
       "<tr>\n",
       "  <th>x6</th>    <td> 3083.4588</td> <td> 2547.818</td> <td>    1.210</td> <td> 0.227</td> <td>-1920.706</td> <td> 8087.624</td>\n",
       "</tr>\n",
       "<tr>\n",
       "  <th>x7</th>    <td>-2244.5862</td> <td>  531.186</td> <td>   -4.226</td> <td> 0.000</td> <td>-3287.888</td> <td>-1201.285</td>\n",
       "</tr>\n",
       "<tr>\n",
       "  <th>x8</th>    <td>-2553.6848</td> <td>  789.220</td> <td>   -3.236</td> <td> 0.001</td> <td>-4103.791</td> <td>-1003.579</td>\n",
       "</tr>\n",
       "</table>\n",
       "<table class=\"simpletable\">\n",
       "<tr>\n",
       "  <th>Omnibus:</th>       <td> 9.484</td> <th>  Durbin-Watson:     </th> <td>   1.995</td>\n",
       "</tr>\n",
       "<tr>\n",
       "  <th>Prob(Omnibus):</th> <td> 0.009</td> <th>  Jarque-Bera (JB):  </th> <td>   6.678</td>\n",
       "</tr>\n",
       "<tr>\n",
       "  <th>Skew:</th>          <td> 0.132</td> <th>  Prob(JB):          </th> <td>  0.0355</td>\n",
       "</tr>\n",
       "<tr>\n",
       "  <th>Kurtosis:</th>      <td> 2.548</td> <th>  Cond. No.          </th> <td>    206.</td>\n",
       "</tr>\n",
       "</table><br/><br/>Notes:<br/>[1] Standard Errors assume that the covariance matrix of the errors is correctly specified."
      ],
      "text/plain": [
       "<class 'statsmodels.iolib.summary.Summary'>\n",
       "\"\"\"\n",
       "                            OLS Regression Results                            \n",
       "==============================================================================\n",
       "Dep. Variable:                    cnt   R-squared:                       0.513\n",
       "Model:                            OLS   Adj. R-squared:                  0.506\n",
       "Method:                 Least Squares   F-statistic:                     75.71\n",
       "Date:                Sun, 05 Jan 2025   Prob (F-statistic):           8.05e-85\n",
       "Time:                        16:33:13   Log-Likelihood:                -5032.0\n",
       "No. Observations:                 584   AIC:                         1.008e+04\n",
       "Df Residuals:                     575   BIC:                         1.012e+04\n",
       "Df Model:                           8                                         \n",
       "Covariance Type:            nonrobust                                         \n",
       "==============================================================================\n",
       "                 coef    std err          t      P>|t|      [0.025      0.975]\n",
       "------------------------------------------------------------------------------\n",
       "const       3135.6300    391.061      8.018      0.000    2367.548    3903.712\n",
       "x1           418.1147     55.257      7.567      0.000     309.585     526.644\n",
       "x2          -504.3166    362.671     -1.391      0.165   -1216.638     208.005\n",
       "x3           130.1999    122.550      1.062      0.288    -110.500     370.900\n",
       "x4          -480.8428    133.048     -3.614      0.000    -742.163    -219.523\n",
       "x5          2815.6283   2251.031      1.251      0.212   -1605.617    7236.874\n",
       "x6          3083.4588   2547.818      1.210      0.227   -1920.706    8087.624\n",
       "x7         -2244.5862    531.186     -4.226      0.000   -3287.888   -1201.285\n",
       "x8         -2553.6848    789.220     -3.236      0.001   -4103.791   -1003.579\n",
       "==============================================================================\n",
       "Omnibus:                        9.484   Durbin-Watson:                   1.995\n",
       "Prob(Omnibus):                  0.009   Jarque-Bera (JB):                6.678\n",
       "Skew:                           0.132   Prob(JB):                       0.0355\n",
       "Kurtosis:                       2.548   Cond. No.                         206.\n",
       "==============================================================================\n",
       "\n",
       "Notes:\n",
       "[1] Standard Errors assume that the covariance matrix of the errors is correctly specified.\n",
       "\"\"\""
      ]
     },
     "execution_count": 39,
     "metadata": {},
     "output_type": "execute_result"
    }
   ],
   "source": [
    "import statsmodels.api as sm \n",
    "X_train_bem = np.append(arr = np.ones((584,1)).astype(int), values = X_train, axis = 1) \n",
    "X_train_bem = X_train_bem[:,[0, 1, 2, 3, 4, 5, 6, 7, 8]] \n",
    "regressor_OLS = sm.OLS(endog = y_train, exog = X_train_bem).fit()\n",
    "regressor_OLS.summary()"
   ]
  },
  {
   "cell_type": "code",
   "execution_count": null,
   "id": "08900f01-198e-491f-8a91-a33d862693a3",
   "metadata": {},
   "outputs": [],
   "source": [
    "  "
   ]
  },
  {
   "cell_type": "markdown",
   "id": "3954ebda-3714-4cab-a6fd-a3ea816f1660",
   "metadata": {},
   "source": [
    "We have selected significance level of 0.05. In table above we will look at features which has p-value higher than this p-value and delete the variable with the highest p-value.\n",
    "\n",
    "We see x2, x3, x5, x6 have p-value higher than significance level but x3 has highest p-value so we delete x3 from the model.\n",
    "\n",
    "Features we are left with are: ['season', 'holiday', 'weathersit', 'temp', 'atemp', 'hum','windspeed']"
   ]
  },
  {
   "cell_type": "code",
   "execution_count": 41,
   "id": "91f9a495-eb87-4ac0-bad5-2ea41557527f",
   "metadata": {
    "scrolled": true
   },
   "outputs": [
    {
     "data": {
      "text/html": [
       "<table class=\"simpletable\">\n",
       "<caption>OLS Regression Results</caption>\n",
       "<tr>\n",
       "  <th>Dep. Variable:</th>           <td>cnt</td>       <th>  R-squared:         </th> <td>   0.512</td> \n",
       "</tr>\n",
       "<tr>\n",
       "  <th>Model:</th>                   <td>OLS</td>       <th>  Adj. R-squared:    </th> <td>   0.506</td> \n",
       "</tr>\n",
       "<tr>\n",
       "  <th>Method:</th>             <td>Least Squares</td>  <th>  F-statistic:       </th> <td>   86.35</td> \n",
       "</tr>\n",
       "<tr>\n",
       "  <th>Date:</th>             <td>Sun, 05 Jan 2025</td> <th>  Prob (F-statistic):</th> <td>1.46e-85</td> \n",
       "</tr>\n",
       "<tr>\n",
       "  <th>Time:</th>                 <td>16:33:13</td>     <th>  Log-Likelihood:    </th> <td> -5032.6</td> \n",
       "</tr>\n",
       "<tr>\n",
       "  <th>No. Observations:</th>      <td>   584</td>      <th>  AIC:               </th> <td>1.008e+04</td>\n",
       "</tr>\n",
       "<tr>\n",
       "  <th>Df Residuals:</th>          <td>   576</td>      <th>  BIC:               </th> <td>1.012e+04</td>\n",
       "</tr>\n",
       "<tr>\n",
       "  <th>Df Model:</th>              <td>     7</td>      <th>                     </th>     <td> </td>    \n",
       "</tr>\n",
       "<tr>\n",
       "  <th>Covariance Type:</th>      <td>nonrobust</td>    <th>                     </th>     <td> </td>    \n",
       "</tr>\n",
       "</table>\n",
       "<table class=\"simpletable\">\n",
       "<tr>\n",
       "    <td></td>       <th>coef</th>     <th>std err</th>      <th>t</th>      <th>P>|t|</th>  <th>[0.025</th>    <th>0.975]</th>  \n",
       "</tr>\n",
       "<tr>\n",
       "  <th>const</th> <td> 3212.2984</td> <td>  384.388</td> <td>    8.357</td> <td> 0.000</td> <td> 2457.326</td> <td> 3967.271</td>\n",
       "</tr>\n",
       "<tr>\n",
       "  <th>x1</th>    <td>  416.4023</td> <td>   55.239</td> <td>    7.538</td> <td> 0.000</td> <td>  307.907</td> <td>  524.898</td>\n",
       "</tr>\n",
       "<tr>\n",
       "  <th>x2</th>    <td> -592.0254</td> <td>  353.189</td> <td>   -1.676</td> <td> 0.094</td> <td>-1285.722</td> <td>  101.671</td>\n",
       "</tr>\n",
       "<tr>\n",
       "  <th>x3</th>    <td> -468.9492</td> <td>  132.591</td> <td>   -3.537</td> <td> 0.000</td> <td> -729.371</td> <td> -208.528</td>\n",
       "</tr>\n",
       "<tr>\n",
       "  <th>x4</th>    <td> 2870.3846</td> <td> 2250.692</td> <td>    1.275</td> <td> 0.203</td> <td>-1550.180</td> <td> 7290.949</td>\n",
       "</tr>\n",
       "<tr>\n",
       "  <th>x5</th>    <td> 3054.6767</td> <td> 2547.959</td> <td>    1.199</td> <td> 0.231</td> <td>-1949.746</td> <td> 8059.100</td>\n",
       "</tr>\n",
       "<tr>\n",
       "  <th>x6</th>    <td>-2261.1158</td> <td>  531.017</td> <td>   -4.258</td> <td> 0.000</td> <td>-3304.082</td> <td>-1218.149</td>\n",
       "</tr>\n",
       "<tr>\n",
       "  <th>x7</th>    <td>-2568.4929</td> <td>  789.185</td> <td>   -3.255</td> <td> 0.001</td> <td>-4118.525</td> <td>-1018.461</td>\n",
       "</tr>\n",
       "</table>\n",
       "<table class=\"simpletable\">\n",
       "<tr>\n",
       "  <th>Omnibus:</th>       <td>10.672</td> <th>  Durbin-Watson:     </th> <td>   1.993</td>\n",
       "</tr>\n",
       "<tr>\n",
       "  <th>Prob(Omnibus):</th> <td> 0.005</td> <th>  Jarque-Bera (JB):  </th> <td>   7.035</td>\n",
       "</tr>\n",
       "<tr>\n",
       "  <th>Skew:</th>          <td> 0.119</td> <th>  Prob(JB):          </th> <td>  0.0297</td>\n",
       "</tr>\n",
       "<tr>\n",
       "  <th>Kurtosis:</th>      <td> 2.518</td> <th>  Cond. No.          </th> <td>    202.</td>\n",
       "</tr>\n",
       "</table><br/><br/>Notes:<br/>[1] Standard Errors assume that the covariance matrix of the errors is correctly specified."
      ],
      "text/plain": [
       "<class 'statsmodels.iolib.summary.Summary'>\n",
       "\"\"\"\n",
       "                            OLS Regression Results                            \n",
       "==============================================================================\n",
       "Dep. Variable:                    cnt   R-squared:                       0.512\n",
       "Model:                            OLS   Adj. R-squared:                  0.506\n",
       "Method:                 Least Squares   F-statistic:                     86.35\n",
       "Date:                Sun, 05 Jan 2025   Prob (F-statistic):           1.46e-85\n",
       "Time:                        16:33:13   Log-Likelihood:                -5032.6\n",
       "No. Observations:                 584   AIC:                         1.008e+04\n",
       "Df Residuals:                     576   BIC:                         1.012e+04\n",
       "Df Model:                           7                                         \n",
       "Covariance Type:            nonrobust                                         \n",
       "==============================================================================\n",
       "                 coef    std err          t      P>|t|      [0.025      0.975]\n",
       "------------------------------------------------------------------------------\n",
       "const       3212.2984    384.388      8.357      0.000    2457.326    3967.271\n",
       "x1           416.4023     55.239      7.538      0.000     307.907     524.898\n",
       "x2          -592.0254    353.189     -1.676      0.094   -1285.722     101.671\n",
       "x3          -468.9492    132.591     -3.537      0.000    -729.371    -208.528\n",
       "x4          2870.3846   2250.692      1.275      0.203   -1550.180    7290.949\n",
       "x5          3054.6767   2547.959      1.199      0.231   -1949.746    8059.100\n",
       "x6         -2261.1158    531.017     -4.258      0.000   -3304.082   -1218.149\n",
       "x7         -2568.4929    789.185     -3.255      0.001   -4118.525   -1018.461\n",
       "==============================================================================\n",
       "Omnibus:                       10.672   Durbin-Watson:                   1.993\n",
       "Prob(Omnibus):                  0.005   Jarque-Bera (JB):                7.035\n",
       "Skew:                           0.119   Prob(JB):                       0.0297\n",
       "Kurtosis:                       2.518   Cond. No.                         202.\n",
       "==============================================================================\n",
       "\n",
       "Notes:\n",
       "[1] Standard Errors assume that the covariance matrix of the errors is correctly specified.\n",
       "\"\"\""
      ]
     },
     "execution_count": 41,
     "metadata": {},
     "output_type": "execute_result"
    }
   ],
   "source": [
    "X_train_bem = X_train_bem[:,[0, 1, 2, 4, 5, 6, 7, 8]] \n",
    "\n",
    "regressor_OLS = sm.OLS(endog = y_train, exog = X_train_bem).fit()\n",
    "regressor_OLS.summary()"
   ]
  },
  {
   "cell_type": "markdown",
   "id": "fa388251-a3f4-415b-80e4-537d884906e3",
   "metadata": {},
   "source": [
    "We see x2, x4 and x5 have p-value higher than significance level but x5 has highest p-value so we delete x5 from the model.\n",
    "\n",
    "Features we are left with are: ['season', 'holiday', 'weathersit', 'temp', 'hum','windspeed']"
   ]
  },
  {
   "cell_type": "code",
   "execution_count": 43,
   "id": "6645bdcf-a655-4696-b460-f6d449eaac69",
   "metadata": {},
   "outputs": [
    {
     "data": {
      "text/html": [
       "<table class=\"simpletable\">\n",
       "<caption>OLS Regression Results</caption>\n",
       "<tr>\n",
       "  <th>Dep. Variable:</th>           <td>cnt</td>       <th>  R-squared:         </th> <td>   0.511</td> \n",
       "</tr>\n",
       "<tr>\n",
       "  <th>Model:</th>                   <td>OLS</td>       <th>  Adj. R-squared:    </th> <td>   0.506</td> \n",
       "</tr>\n",
       "<tr>\n",
       "  <th>Method:</th>             <td>Least Squares</td>  <th>  F-statistic:       </th> <td>   100.4</td> \n",
       "</tr>\n",
       "<tr>\n",
       "  <th>Date:</th>             <td>Sun, 05 Jan 2025</td> <th>  Prob (F-statistic):</th> <td>2.84e-86</td> \n",
       "</tr>\n",
       "<tr>\n",
       "  <th>Time:</th>                 <td>16:33:13</td>     <th>  Log-Likelihood:    </th> <td> -5033.3</td> \n",
       "</tr>\n",
       "<tr>\n",
       "  <th>No. Observations:</th>      <td>   584</td>      <th>  AIC:               </th> <td>1.008e+04</td>\n",
       "</tr>\n",
       "<tr>\n",
       "  <th>Df Residuals:</th>          <td>   577</td>      <th>  BIC:               </th> <td>1.011e+04</td>\n",
       "</tr>\n",
       "<tr>\n",
       "  <th>Df Model:</th>              <td>     6</td>      <th>                     </th>     <td> </td>    \n",
       "</tr>\n",
       "<tr>\n",
       "  <th>Covariance Type:</th>      <td>nonrobust</td>    <th>                     </th>     <td> </td>    \n",
       "</tr>\n",
       "</table>\n",
       "<table class=\"simpletable\">\n",
       "<tr>\n",
       "    <td></td>       <th>coef</th>     <th>std err</th>      <th>t</th>      <th>P>|t|</th>  <th>[0.025</th>    <th>0.975]</th>  \n",
       "</tr>\n",
       "<tr>\n",
       "  <th>const</th> <td> 3347.3689</td> <td>  367.645</td> <td>    9.105</td> <td> 0.000</td> <td> 2625.283</td> <td> 4069.455</td>\n",
       "</tr>\n",
       "<tr>\n",
       "  <th>x1</th>    <td>  419.2343</td> <td>   55.210</td> <td>    7.593</td> <td> 0.000</td> <td>  310.798</td> <td>  527.671</td>\n",
       "</tr>\n",
       "<tr>\n",
       "  <th>x2</th>    <td> -607.3547</td> <td>  353.092</td> <td>   -1.720</td> <td> 0.086</td> <td>-1300.856</td> <td>   86.147</td>\n",
       "</tr>\n",
       "<tr>\n",
       "  <th>x3</th>    <td> -477.7641</td> <td>  132.438</td> <td>   -3.607</td> <td> 0.000</td> <td> -737.883</td> <td> -217.646</td>\n",
       "</tr>\n",
       "<tr>\n",
       "  <th>x4</th>    <td> 5538.4490</td> <td>  336.073</td> <td>   16.480</td> <td> 0.000</td> <td> 4878.374</td> <td> 6198.524</td>\n",
       "</tr>\n",
       "<tr>\n",
       "  <th>x5</th>    <td>-2214.6437</td> <td>  529.801</td> <td>   -4.180</td> <td> 0.000</td> <td>-3255.218</td> <td>-1174.069</td>\n",
       "</tr>\n",
       "<tr>\n",
       "  <th>x6</th>    <td>-2733.3188</td> <td>  777.412</td> <td>   -3.516</td> <td> 0.000</td> <td>-4260.221</td> <td>-1206.417</td>\n",
       "</tr>\n",
       "</table>\n",
       "<table class=\"simpletable\">\n",
       "<tr>\n",
       "  <th>Omnibus:</th>       <td>12.768</td> <th>  Durbin-Watson:     </th> <td>   1.997</td>\n",
       "</tr>\n",
       "<tr>\n",
       "  <th>Prob(Omnibus):</th> <td> 0.002</td> <th>  Jarque-Bera (JB):  </th> <td>   8.284</td>\n",
       "</tr>\n",
       "<tr>\n",
       "  <th>Skew:</th>          <td> 0.144</td> <th>  Prob(JB):          </th> <td>  0.0159</td>\n",
       "</tr>\n",
       "<tr>\n",
       "  <th>Kurtosis:</th>      <td> 2.492</td> <th>  Cond. No.          </th> <td>    50.1</td>\n",
       "</tr>\n",
       "</table><br/><br/>Notes:<br/>[1] Standard Errors assume that the covariance matrix of the errors is correctly specified."
      ],
      "text/plain": [
       "<class 'statsmodels.iolib.summary.Summary'>\n",
       "\"\"\"\n",
       "                            OLS Regression Results                            \n",
       "==============================================================================\n",
       "Dep. Variable:                    cnt   R-squared:                       0.511\n",
       "Model:                            OLS   Adj. R-squared:                  0.506\n",
       "Method:                 Least Squares   F-statistic:                     100.4\n",
       "Date:                Sun, 05 Jan 2025   Prob (F-statistic):           2.84e-86\n",
       "Time:                        16:33:13   Log-Likelihood:                -5033.3\n",
       "No. Observations:                 584   AIC:                         1.008e+04\n",
       "Df Residuals:                     577   BIC:                         1.011e+04\n",
       "Df Model:                           6                                         \n",
       "Covariance Type:            nonrobust                                         \n",
       "==============================================================================\n",
       "                 coef    std err          t      P>|t|      [0.025      0.975]\n",
       "------------------------------------------------------------------------------\n",
       "const       3347.3689    367.645      9.105      0.000    2625.283    4069.455\n",
       "x1           419.2343     55.210      7.593      0.000     310.798     527.671\n",
       "x2          -607.3547    353.092     -1.720      0.086   -1300.856      86.147\n",
       "x3          -477.7641    132.438     -3.607      0.000    -737.883    -217.646\n",
       "x4          5538.4490    336.073     16.480      0.000    4878.374    6198.524\n",
       "x5         -2214.6437    529.801     -4.180      0.000   -3255.218   -1174.069\n",
       "x6         -2733.3188    777.412     -3.516      0.000   -4260.221   -1206.417\n",
       "==============================================================================\n",
       "Omnibus:                       12.768   Durbin-Watson:                   1.997\n",
       "Prob(Omnibus):                  0.002   Jarque-Bera (JB):                8.284\n",
       "Skew:                           0.144   Prob(JB):                       0.0159\n",
       "Kurtosis:                       2.492   Cond. No.                         50.1\n",
       "==============================================================================\n",
       "\n",
       "Notes:\n",
       "[1] Standard Errors assume that the covariance matrix of the errors is correctly specified.\n",
       "\"\"\""
      ]
     },
     "execution_count": 43,
     "metadata": {},
     "output_type": "execute_result"
    }
   ],
   "source": [
    "X_train_bem = X_train_bem[:,[0, 1, 2, 3, 4, 6, 7]] \n",
    "regressor_OLS = sm.OLS(endog = y_train, exog = X_train_bem).fit()\n",
    "regressor_OLS.summary()"
   ]
  },
  {
   "cell_type": "markdown",
   "id": "7d00a6a3-b69b-4d63-a4d4-59f2dcaf9142",
   "metadata": {},
   "source": [
    "We see only x2 has p-value higher than significance level so we delete x2 from the model.\n",
    "\n",
    "Features we are left with are: ['season', 'weathersit', 'temp', 'hum','windspeed']"
   ]
  },
  {
   "cell_type": "code",
   "execution_count": 45,
   "id": "8c66dcfb-d773-4b45-9bd6-0220a44c1a77",
   "metadata": {},
   "outputs": [
    {
     "data": {
      "text/html": [
       "<table class=\"simpletable\">\n",
       "<caption>OLS Regression Results</caption>\n",
       "<tr>\n",
       "  <th>Dep. Variable:</th>           <td>cnt</td>       <th>  R-squared:         </th> <td>   0.508</td> \n",
       "</tr>\n",
       "<tr>\n",
       "  <th>Model:</th>                   <td>OLS</td>       <th>  Adj. R-squared:    </th> <td>   0.504</td> \n",
       "</tr>\n",
       "<tr>\n",
       "  <th>Method:</th>             <td>Least Squares</td>  <th>  F-statistic:       </th> <td>   119.5</td> \n",
       "</tr>\n",
       "<tr>\n",
       "  <th>Date:</th>             <td>Sun, 05 Jan 2025</td> <th>  Prob (F-statistic):</th> <td>1.07e-86</td> \n",
       "</tr>\n",
       "<tr>\n",
       "  <th>Time:</th>                 <td>16:33:13</td>     <th>  Log-Likelihood:    </th> <td> -5034.8</td> \n",
       "</tr>\n",
       "<tr>\n",
       "  <th>No. Observations:</th>      <td>   584</td>      <th>  AIC:               </th> <td>1.008e+04</td>\n",
       "</tr>\n",
       "<tr>\n",
       "  <th>Df Residuals:</th>          <td>   578</td>      <th>  BIC:               </th> <td>1.011e+04</td>\n",
       "</tr>\n",
       "<tr>\n",
       "  <th>Df Model:</th>              <td>     5</td>      <th>                     </th>     <td> </td>    \n",
       "</tr>\n",
       "<tr>\n",
       "  <th>Covariance Type:</th>      <td>nonrobust</td>    <th>                     </th>     <td> </td>    \n",
       "</tr>\n",
       "</table>\n",
       "<table class=\"simpletable\">\n",
       "<tr>\n",
       "    <td></td>       <th>coef</th>     <th>std err</th>      <th>t</th>      <th>P>|t|</th>  <th>[0.025</th>    <th>0.975]</th>  \n",
       "</tr>\n",
       "<tr>\n",
       "  <th>const</th> <td> 3311.3419</td> <td>  367.670</td> <td>    9.006</td> <td> 0.000</td> <td> 2589.211</td> <td> 4033.473</td>\n",
       "</tr>\n",
       "<tr>\n",
       "  <th>x1</th>    <td>  421.3477</td> <td>   55.290</td> <td>    7.621</td> <td> 0.000</td> <td>  312.755</td> <td>  529.941</td>\n",
       "</tr>\n",
       "<tr>\n",
       "  <th>x2</th>    <td> -470.9132</td> <td>  132.602</td> <td>   -3.551</td> <td> 0.000</td> <td> -731.353</td> <td> -210.473</td>\n",
       "</tr>\n",
       "<tr>\n",
       "  <th>x3</th>    <td> 5564.4510</td> <td>  336.301</td> <td>   16.546</td> <td> 0.000</td> <td> 4903.930</td> <td> 6224.972</td>\n",
       "</tr>\n",
       "<tr>\n",
       "  <th>x4</th>    <td>-2231.3458</td> <td>  530.609</td> <td>   -4.205</td> <td> 0.000</td> <td>-3273.503</td> <td>-1189.189</td>\n",
       "</tr>\n",
       "<tr>\n",
       "  <th>x5</th>    <td>-2717.2049</td> <td>  778.671</td> <td>   -3.490</td> <td> 0.001</td> <td>-4246.575</td> <td>-1187.835</td>\n",
       "</tr>\n",
       "</table>\n",
       "<table class=\"simpletable\">\n",
       "<tr>\n",
       "  <th>Omnibus:</th>       <td>12.740</td> <th>  Durbin-Watson:     </th> <td>   2.008</td>\n",
       "</tr>\n",
       "<tr>\n",
       "  <th>Prob(Omnibus):</th> <td> 0.002</td> <th>  Jarque-Bera (JB):  </th> <td>   8.319</td>\n",
       "</tr>\n",
       "<tr>\n",
       "  <th>Skew:</th>          <td> 0.147</td> <th>  Prob(JB):          </th> <td>  0.0156</td>\n",
       "</tr>\n",
       "<tr>\n",
       "  <th>Kurtosis:</th>      <td> 2.494</td> <th>  Cond. No.          </th> <td>    50.0</td>\n",
       "</tr>\n",
       "</table><br/><br/>Notes:<br/>[1] Standard Errors assume that the covariance matrix of the errors is correctly specified."
      ],
      "text/plain": [
       "<class 'statsmodels.iolib.summary.Summary'>\n",
       "\"\"\"\n",
       "                            OLS Regression Results                            \n",
       "==============================================================================\n",
       "Dep. Variable:                    cnt   R-squared:                       0.508\n",
       "Model:                            OLS   Adj. R-squared:                  0.504\n",
       "Method:                 Least Squares   F-statistic:                     119.5\n",
       "Date:                Sun, 05 Jan 2025   Prob (F-statistic):           1.07e-86\n",
       "Time:                        16:33:13   Log-Likelihood:                -5034.8\n",
       "No. Observations:                 584   AIC:                         1.008e+04\n",
       "Df Residuals:                     578   BIC:                         1.011e+04\n",
       "Df Model:                           5                                         \n",
       "Covariance Type:            nonrobust                                         \n",
       "==============================================================================\n",
       "                 coef    std err          t      P>|t|      [0.025      0.975]\n",
       "------------------------------------------------------------------------------\n",
       "const       3311.3419    367.670      9.006      0.000    2589.211    4033.473\n",
       "x1           421.3477     55.290      7.621      0.000     312.755     529.941\n",
       "x2          -470.9132    132.602     -3.551      0.000    -731.353    -210.473\n",
       "x3          5564.4510    336.301     16.546      0.000    4903.930    6224.972\n",
       "x4         -2231.3458    530.609     -4.205      0.000   -3273.503   -1189.189\n",
       "x5         -2717.2049    778.671     -3.490      0.001   -4246.575   -1187.835\n",
       "==============================================================================\n",
       "Omnibus:                       12.740   Durbin-Watson:                   2.008\n",
       "Prob(Omnibus):                  0.002   Jarque-Bera (JB):                8.319\n",
       "Skew:                           0.147   Prob(JB):                       0.0156\n",
       "Kurtosis:                       2.494   Cond. No.                         50.0\n",
       "==============================================================================\n",
       "\n",
       "Notes:\n",
       "[1] Standard Errors assume that the covariance matrix of the errors is correctly specified.\n",
       "\"\"\""
      ]
     },
     "execution_count": 45,
     "metadata": {},
     "output_type": "execute_result"
    }
   ],
   "source": [
    "X_train_bem = X_train_bem[:,[0, 1, 3, 4, 5, 6]] \n",
    "regressor_OLS = sm.OLS(endog = y_train, exog = X_train_bem).fit()\n",
    "regressor_OLS.summary()"
   ]
  },
  {
   "cell_type": "markdown",
   "id": "f61d1fb1-e7d4-47c6-9467-90781a6c446b",
   "metadata": {},
   "source": [
    "All p-values are now below the significance level."
   ]
  },
  {
   "cell_type": "code",
   "execution_count": 47,
   "id": "e538f4be-e416-4d80-b969-19697373436f",
   "metadata": {},
   "outputs": [],
   "source": [
    "X_train = X_train[['season', 'weathersit', 'temp', 'hum','windspeed']]\n",
    "X_test = X_test[['season', 'weathersit', 'temp', 'hum','windspeed']]"
   ]
  },
  {
   "cell_type": "code",
   "execution_count": 48,
   "id": "7ae9558f-41b5-4a67-a105-ef1ee9232f11",
   "metadata": {},
   "outputs": [],
   "source": [
    "LR = LinearRegression()"
   ]
  },
  {
   "cell_type": "code",
   "execution_count": 49,
   "id": "8fd490e8-f4c2-47bb-acd7-c7e5212c23f1",
   "metadata": {},
   "outputs": [
    {
     "data": {
      "text/html": [
       "<style>#sk-container-id-2 {color: black;background-color: white;}#sk-container-id-2 pre{padding: 0;}#sk-container-id-2 div.sk-toggleable {background-color: white;}#sk-container-id-2 label.sk-toggleable__label {cursor: pointer;display: block;width: 100%;margin-bottom: 0;padding: 0.3em;box-sizing: border-box;text-align: center;}#sk-container-id-2 label.sk-toggleable__label-arrow:before {content: \"▸\";float: left;margin-right: 0.25em;color: #696969;}#sk-container-id-2 label.sk-toggleable__label-arrow:hover:before {color: black;}#sk-container-id-2 div.sk-estimator:hover label.sk-toggleable__label-arrow:before {color: black;}#sk-container-id-2 div.sk-toggleable__content {max-height: 0;max-width: 0;overflow: hidden;text-align: left;background-color: #f0f8ff;}#sk-container-id-2 div.sk-toggleable__content pre {margin: 0.2em;color: black;border-radius: 0.25em;background-color: #f0f8ff;}#sk-container-id-2 input.sk-toggleable__control:checked~div.sk-toggleable__content {max-height: 200px;max-width: 100%;overflow: auto;}#sk-container-id-2 input.sk-toggleable__control:checked~label.sk-toggleable__label-arrow:before {content: \"▾\";}#sk-container-id-2 div.sk-estimator input.sk-toggleable__control:checked~label.sk-toggleable__label {background-color: #d4ebff;}#sk-container-id-2 div.sk-label input.sk-toggleable__control:checked~label.sk-toggleable__label {background-color: #d4ebff;}#sk-container-id-2 input.sk-hidden--visually {border: 0;clip: rect(1px 1px 1px 1px);clip: rect(1px, 1px, 1px, 1px);height: 1px;margin: -1px;overflow: hidden;padding: 0;position: absolute;width: 1px;}#sk-container-id-2 div.sk-estimator {font-family: monospace;background-color: #f0f8ff;border: 1px dotted black;border-radius: 0.25em;box-sizing: border-box;margin-bottom: 0.5em;}#sk-container-id-2 div.sk-estimator:hover {background-color: #d4ebff;}#sk-container-id-2 div.sk-parallel-item::after {content: \"\";width: 100%;border-bottom: 1px solid gray;flex-grow: 1;}#sk-container-id-2 div.sk-label:hover label.sk-toggleable__label {background-color: #d4ebff;}#sk-container-id-2 div.sk-serial::before {content: \"\";position: absolute;border-left: 1px solid gray;box-sizing: border-box;top: 0;bottom: 0;left: 50%;z-index: 0;}#sk-container-id-2 div.sk-serial {display: flex;flex-direction: column;align-items: center;background-color: white;padding-right: 0.2em;padding-left: 0.2em;position: relative;}#sk-container-id-2 div.sk-item {position: relative;z-index: 1;}#sk-container-id-2 div.sk-parallel {display: flex;align-items: stretch;justify-content: center;background-color: white;position: relative;}#sk-container-id-2 div.sk-item::before, #sk-container-id-2 div.sk-parallel-item::before {content: \"\";position: absolute;border-left: 1px solid gray;box-sizing: border-box;top: 0;bottom: 0;left: 50%;z-index: -1;}#sk-container-id-2 div.sk-parallel-item {display: flex;flex-direction: column;z-index: 1;position: relative;background-color: white;}#sk-container-id-2 div.sk-parallel-item:first-child::after {align-self: flex-end;width: 50%;}#sk-container-id-2 div.sk-parallel-item:last-child::after {align-self: flex-start;width: 50%;}#sk-container-id-2 div.sk-parallel-item:only-child::after {width: 0;}#sk-container-id-2 div.sk-dashed-wrapped {border: 1px dashed gray;margin: 0 0.4em 0.5em 0.4em;box-sizing: border-box;padding-bottom: 0.4em;background-color: white;}#sk-container-id-2 div.sk-label label {font-family: monospace;font-weight: bold;display: inline-block;line-height: 1.2em;}#sk-container-id-2 div.sk-label-container {text-align: center;}#sk-container-id-2 div.sk-container {/* jupyter's `normalize.less` sets `[hidden] { display: none; }` but bootstrap.min.css set `[hidden] { display: none !important; }` so we also need the `!important` here to be able to override the default hidden behavior on the sphinx rendered scikit-learn.org. See: https://github.com/scikit-learn/scikit-learn/issues/21755 */display: inline-block !important;position: relative;}#sk-container-id-2 div.sk-text-repr-fallback {display: none;}</style><div id=\"sk-container-id-2\" class=\"sk-top-container\"><div class=\"sk-text-repr-fallback\"><pre>LinearRegression()</pre><b>In a Jupyter environment, please rerun this cell to show the HTML representation or trust the notebook. <br />On GitHub, the HTML representation is unable to render, please try loading this page with nbviewer.org.</b></div><div class=\"sk-container\" hidden><div class=\"sk-item\"><div class=\"sk-estimator sk-toggleable\"><input class=\"sk-toggleable__control sk-hidden--visually\" id=\"sk-estimator-id-2\" type=\"checkbox\" checked><label for=\"sk-estimator-id-2\" class=\"sk-toggleable__label sk-toggleable__label-arrow\">LinearRegression</label><div class=\"sk-toggleable__content\"><pre>LinearRegression()</pre></div></div></div></div></div>"
      ],
      "text/plain": [
       "LinearRegression()"
      ]
     },
     "execution_count": 49,
     "metadata": {},
     "output_type": "execute_result"
    }
   ],
   "source": [
    "LR.fit(X_train, y_train)"
   ]
  },
  {
   "cell_type": "code",
   "execution_count": 50,
   "id": "16202c8d-c02a-4aeb-b7c2-30b83577b380",
   "metadata": {},
   "outputs": [],
   "source": [
    "y_pred = LR.predict(X_test)"
   ]
  },
  {
   "cell_type": "code",
   "execution_count": 51,
   "id": "16ff25df-02a9-4fa1-b16a-9392a71379ed",
   "metadata": {},
   "outputs": [
    {
     "data": {
      "text/plain": [
       "0.5409147642180705"
      ]
     },
     "execution_count": 51,
     "metadata": {},
     "output_type": "execute_result"
    }
   ],
   "source": [
    "r2_score(y_test, y_pred)"
   ]
  },
  {
   "cell_type": "code",
   "execution_count": 52,
   "id": "c6604a69-c1e3-4e35-ae14-3c2bdbc3e82e",
   "metadata": {},
   "outputs": [
    {
     "data": {
      "text/plain": [
       "0.5246351459279311"
      ]
     },
     "execution_count": 52,
     "metadata": {},
     "output_type": "execute_result"
    }
   ],
   "source": [
    "adjusted_r2_score = 1 - ( 1-r2_score(y_test, y_pred) ) * ( len(y_pred) - 1 ) / ( len(y_pred) - X_train.shape[1] - 1 )\n",
    "adjusted_r2_score"
   ]
  },
  {
   "cell_type": "markdown",
   "id": "4ed10b2c-3dd8-414e-8b8e-5fc05d573382",
   "metadata": {},
   "source": [
    "## Implement the Forward selection method to select features"
   ]
  },
  {
   "cell_type": "code",
   "execution_count": 54,
   "id": "98ce7d4e-dcf6-4e6f-a479-346e3f886479",
   "metadata": {},
   "outputs": [],
   "source": [
    "data = pd.read_csv('bikesharing_day.csv')\n",
    "data = data.drop(['instant', 'dteday', 'yr', 'mnth', 'casual', 'registered', 'weekday'], axis = 1)\n",
    "\n",
    "X = data.drop(['cnt'], axis = 1)\n",
    "y = data[['cnt']]"
   ]
  },
  {
   "cell_type": "code",
   "execution_count": 55,
   "id": "8ca79ff0-3d9b-4824-82de-543b6efe735f",
   "metadata": {},
   "outputs": [],
   "source": [
    "X_train, X_test, y_train, y_test = train_test_split(X, y, random_state= 42, test_size= 0.2)"
   ]
  },
  {
   "cell_type": "code",
   "execution_count": 56,
   "id": "e493158a-883d-4f36-af24-e409ae468f86",
   "metadata": {},
   "outputs": [],
   "source": [
    "def calculate_metric(model, x_test, y_test):\n",
    "    return r2_score(y_test, model.predict(x_test)) #r2_score will be used as the metric to evaluate model"
   ]
  },
  {
   "cell_type": "code",
   "execution_count": 57,
   "id": "672350f5-4213-4165-b162-6bd5bfa719a7",
   "metadata": {},
   "outputs": [],
   "source": [
    "def forward_selection(X_train, X_test, y_train, y_test, num_features):\n",
    "    chosen_features = []\n",
    "    \n",
    "    for _ in range(num_features):\n",
    "        best_score = float('-inf')\n",
    "        best_feature = None\n",
    "        regressor = LinearRegression()\n",
    "        \n",
    "        for column_name in X_train.columns:\n",
    "            if column_name not in chosen_features:\n",
    "                current_features = chosen_features.copy()\n",
    "                current_features.append(column_name)\n",
    "                regressor.fit(X_train[current_features], y_train)\n",
    "                model_performance = calculate_metric(regressor, X_test[current_features], y_test)\n",
    "                \n",
    "                if model_performance > best_score:\n",
    "                    best_score = model_performance\n",
    "                    best_feature = column_name\n",
    "        \n",
    "        if best_feature is not None:\n",
    "            chosen_features.append(best_feature)\n",
    "    \n",
    "    return chosen_features\n"
   ]
  },
  {
   "cell_type": "code",
   "execution_count": 58,
   "id": "9ccfd487-0b36-4c9c-b8ac-22e671390deb",
   "metadata": {},
   "outputs": [
    {
     "data": {
      "text/plain": [
       "['atemp', 'weathersit', 'season', 'windspeed', 'hum']"
      ]
     },
     "execution_count": 58,
     "metadata": {},
     "output_type": "execute_result"
    }
   ],
   "source": [
    "forward_selection(X_train, X_test, y_train, y_test, 5)"
   ]
  },
  {
   "cell_type": "code",
   "execution_count": 59,
   "id": "a421ccc1-ac72-4a96-99d9-bfa220aa9a77",
   "metadata": {},
   "outputs": [],
   "source": [
    "X_train = X_train[['atemp', 'weathersit', 'season', 'windspeed', 'hum']]\n",
    "X_test = X_test[['atemp', 'weathersit', 'season', 'windspeed', 'hum']]"
   ]
  },
  {
   "cell_type": "code",
   "execution_count": 60,
   "id": "5f9b096f-b5fa-4d53-ac6f-b2ac2393c8e6",
   "metadata": {},
   "outputs": [],
   "source": [
    "LR = LinearRegression()"
   ]
  },
  {
   "cell_type": "code",
   "execution_count": 61,
   "id": "50561969-c813-4f9c-8acd-03c512cb5b6f",
   "metadata": {},
   "outputs": [
    {
     "data": {
      "text/html": [
       "<style>#sk-container-id-3 {color: black;background-color: white;}#sk-container-id-3 pre{padding: 0;}#sk-container-id-3 div.sk-toggleable {background-color: white;}#sk-container-id-3 label.sk-toggleable__label {cursor: pointer;display: block;width: 100%;margin-bottom: 0;padding: 0.3em;box-sizing: border-box;text-align: center;}#sk-container-id-3 label.sk-toggleable__label-arrow:before {content: \"▸\";float: left;margin-right: 0.25em;color: #696969;}#sk-container-id-3 label.sk-toggleable__label-arrow:hover:before {color: black;}#sk-container-id-3 div.sk-estimator:hover label.sk-toggleable__label-arrow:before {color: black;}#sk-container-id-3 div.sk-toggleable__content {max-height: 0;max-width: 0;overflow: hidden;text-align: left;background-color: #f0f8ff;}#sk-container-id-3 div.sk-toggleable__content pre {margin: 0.2em;color: black;border-radius: 0.25em;background-color: #f0f8ff;}#sk-container-id-3 input.sk-toggleable__control:checked~div.sk-toggleable__content {max-height: 200px;max-width: 100%;overflow: auto;}#sk-container-id-3 input.sk-toggleable__control:checked~label.sk-toggleable__label-arrow:before {content: \"▾\";}#sk-container-id-3 div.sk-estimator input.sk-toggleable__control:checked~label.sk-toggleable__label {background-color: #d4ebff;}#sk-container-id-3 div.sk-label input.sk-toggleable__control:checked~label.sk-toggleable__label {background-color: #d4ebff;}#sk-container-id-3 input.sk-hidden--visually {border: 0;clip: rect(1px 1px 1px 1px);clip: rect(1px, 1px, 1px, 1px);height: 1px;margin: -1px;overflow: hidden;padding: 0;position: absolute;width: 1px;}#sk-container-id-3 div.sk-estimator {font-family: monospace;background-color: #f0f8ff;border: 1px dotted black;border-radius: 0.25em;box-sizing: border-box;margin-bottom: 0.5em;}#sk-container-id-3 div.sk-estimator:hover {background-color: #d4ebff;}#sk-container-id-3 div.sk-parallel-item::after {content: \"\";width: 100%;border-bottom: 1px solid gray;flex-grow: 1;}#sk-container-id-3 div.sk-label:hover label.sk-toggleable__label {background-color: #d4ebff;}#sk-container-id-3 div.sk-serial::before {content: \"\";position: absolute;border-left: 1px solid gray;box-sizing: border-box;top: 0;bottom: 0;left: 50%;z-index: 0;}#sk-container-id-3 div.sk-serial {display: flex;flex-direction: column;align-items: center;background-color: white;padding-right: 0.2em;padding-left: 0.2em;position: relative;}#sk-container-id-3 div.sk-item {position: relative;z-index: 1;}#sk-container-id-3 div.sk-parallel {display: flex;align-items: stretch;justify-content: center;background-color: white;position: relative;}#sk-container-id-3 div.sk-item::before, #sk-container-id-3 div.sk-parallel-item::before {content: \"\";position: absolute;border-left: 1px solid gray;box-sizing: border-box;top: 0;bottom: 0;left: 50%;z-index: -1;}#sk-container-id-3 div.sk-parallel-item {display: flex;flex-direction: column;z-index: 1;position: relative;background-color: white;}#sk-container-id-3 div.sk-parallel-item:first-child::after {align-self: flex-end;width: 50%;}#sk-container-id-3 div.sk-parallel-item:last-child::after {align-self: flex-start;width: 50%;}#sk-container-id-3 div.sk-parallel-item:only-child::after {width: 0;}#sk-container-id-3 div.sk-dashed-wrapped {border: 1px dashed gray;margin: 0 0.4em 0.5em 0.4em;box-sizing: border-box;padding-bottom: 0.4em;background-color: white;}#sk-container-id-3 div.sk-label label {font-family: monospace;font-weight: bold;display: inline-block;line-height: 1.2em;}#sk-container-id-3 div.sk-label-container {text-align: center;}#sk-container-id-3 div.sk-container {/* jupyter's `normalize.less` sets `[hidden] { display: none; }` but bootstrap.min.css set `[hidden] { display: none !important; }` so we also need the `!important` here to be able to override the default hidden behavior on the sphinx rendered scikit-learn.org. See: https://github.com/scikit-learn/scikit-learn/issues/21755 */display: inline-block !important;position: relative;}#sk-container-id-3 div.sk-text-repr-fallback {display: none;}</style><div id=\"sk-container-id-3\" class=\"sk-top-container\"><div class=\"sk-text-repr-fallback\"><pre>LinearRegression()</pre><b>In a Jupyter environment, please rerun this cell to show the HTML representation or trust the notebook. <br />On GitHub, the HTML representation is unable to render, please try loading this page with nbviewer.org.</b></div><div class=\"sk-container\" hidden><div class=\"sk-item\"><div class=\"sk-estimator sk-toggleable\"><input class=\"sk-toggleable__control sk-hidden--visually\" id=\"sk-estimator-id-3\" type=\"checkbox\" checked><label for=\"sk-estimator-id-3\" class=\"sk-toggleable__label sk-toggleable__label-arrow\">LinearRegression</label><div class=\"sk-toggleable__content\"><pre>LinearRegression()</pre></div></div></div></div></div>"
      ],
      "text/plain": [
       "LinearRegression()"
      ]
     },
     "execution_count": 61,
     "metadata": {},
     "output_type": "execute_result"
    }
   ],
   "source": [
    "LR.fit(X_train, y_train)"
   ]
  },
  {
   "cell_type": "code",
   "execution_count": 62,
   "id": "40ab69cc-013e-4a3a-8504-7c5d633771b6",
   "metadata": {},
   "outputs": [],
   "source": [
    "y_pred = LR.predict(X_test)"
   ]
  },
  {
   "cell_type": "code",
   "execution_count": 63,
   "id": "5c6840f5-25da-4533-98e8-86dcc674633a",
   "metadata": {},
   "outputs": [
    {
     "data": {
      "text/plain": [
       "0.5425615050403128"
      ]
     },
     "execution_count": 63,
     "metadata": {},
     "output_type": "execute_result"
    }
   ],
   "source": [
    "r2_score(y_test, y_pred)"
   ]
  },
  {
   "cell_type": "code",
   "execution_count": 64,
   "id": "994f3656-ddcc-4412-85fd-0aa0bcdc2dd7",
   "metadata": {},
   "outputs": [
    {
     "data": {
      "text/plain": [
       "0.526340281814792"
      ]
     },
     "execution_count": 64,
     "metadata": {},
     "output_type": "execute_result"
    }
   ],
   "source": [
    "adjusted_r2_score = 1 - ( 1-r2_score(y_test, y_pred) ) * ( len(y_pred) - 1 ) / ( len(y_pred) - X_train.shape[1] - 1 )\n",
    "adjusted_r2_score"
   ]
  },
  {
   "cell_type": "markdown",
   "id": "ffe5327d-e371-4294-a7cc-69ae39ba3418",
   "metadata": {},
   "source": [
    "## model using Decision Tree"
   ]
  },
  {
   "cell_type": "code",
   "execution_count": 66,
   "id": "c7bc555b-2905-44f2-bf8e-cf25ba8b2578",
   "metadata": {},
   "outputs": [],
   "source": [
    "from sklearn.tree import DecisionTreeRegressor"
   ]
  },
  {
   "cell_type": "code",
   "execution_count": 67,
   "id": "749356e1-c25b-42c0-8049-9ea336bb529e",
   "metadata": {},
   "outputs": [],
   "source": [
    "data = pd.read_csv('bikesharing_day.csv')\n",
    "data = data.drop(['instant', 'dteday', 'yr', 'mnth', 'casual', 'registered', 'weekday'], axis = 1)\n",
    "\n",
    "X = data.drop(['cnt'], axis = 1)\n",
    "y = data[['cnt']]"
   ]
  },
  {
   "cell_type": "code",
   "execution_count": 68,
   "id": "f40ff2da-0af9-4ffc-888e-756ba65e880c",
   "metadata": {},
   "outputs": [],
   "source": [
    "X_train, X_test, y_train, y_test = train_test_split(X, y, random_state= 42, test_size= 0.2)"
   ]
  },
  {
   "cell_type": "code",
   "execution_count": 69,
   "id": "8b7de38a-fd9b-45b4-a424-2eac5dce7b89",
   "metadata": {},
   "outputs": [],
   "source": [
    "DT = DecisionTreeRegressor()"
   ]
  },
  {
   "cell_type": "code",
   "execution_count": 70,
   "id": "d8d669f7-0515-482f-b2c1-3ab77eb3a2c4",
   "metadata": {},
   "outputs": [
    {
     "data": {
      "text/html": [
       "<style>#sk-container-id-4 {color: black;background-color: white;}#sk-container-id-4 pre{padding: 0;}#sk-container-id-4 div.sk-toggleable {background-color: white;}#sk-container-id-4 label.sk-toggleable__label {cursor: pointer;display: block;width: 100%;margin-bottom: 0;padding: 0.3em;box-sizing: border-box;text-align: center;}#sk-container-id-4 label.sk-toggleable__label-arrow:before {content: \"▸\";float: left;margin-right: 0.25em;color: #696969;}#sk-container-id-4 label.sk-toggleable__label-arrow:hover:before {color: black;}#sk-container-id-4 div.sk-estimator:hover label.sk-toggleable__label-arrow:before {color: black;}#sk-container-id-4 div.sk-toggleable__content {max-height: 0;max-width: 0;overflow: hidden;text-align: left;background-color: #f0f8ff;}#sk-container-id-4 div.sk-toggleable__content pre {margin: 0.2em;color: black;border-radius: 0.25em;background-color: #f0f8ff;}#sk-container-id-4 input.sk-toggleable__control:checked~div.sk-toggleable__content {max-height: 200px;max-width: 100%;overflow: auto;}#sk-container-id-4 input.sk-toggleable__control:checked~label.sk-toggleable__label-arrow:before {content: \"▾\";}#sk-container-id-4 div.sk-estimator input.sk-toggleable__control:checked~label.sk-toggleable__label {background-color: #d4ebff;}#sk-container-id-4 div.sk-label input.sk-toggleable__control:checked~label.sk-toggleable__label {background-color: #d4ebff;}#sk-container-id-4 input.sk-hidden--visually {border: 0;clip: rect(1px 1px 1px 1px);clip: rect(1px, 1px, 1px, 1px);height: 1px;margin: -1px;overflow: hidden;padding: 0;position: absolute;width: 1px;}#sk-container-id-4 div.sk-estimator {font-family: monospace;background-color: #f0f8ff;border: 1px dotted black;border-radius: 0.25em;box-sizing: border-box;margin-bottom: 0.5em;}#sk-container-id-4 div.sk-estimator:hover {background-color: #d4ebff;}#sk-container-id-4 div.sk-parallel-item::after {content: \"\";width: 100%;border-bottom: 1px solid gray;flex-grow: 1;}#sk-container-id-4 div.sk-label:hover label.sk-toggleable__label {background-color: #d4ebff;}#sk-container-id-4 div.sk-serial::before {content: \"\";position: absolute;border-left: 1px solid gray;box-sizing: border-box;top: 0;bottom: 0;left: 50%;z-index: 0;}#sk-container-id-4 div.sk-serial {display: flex;flex-direction: column;align-items: center;background-color: white;padding-right: 0.2em;padding-left: 0.2em;position: relative;}#sk-container-id-4 div.sk-item {position: relative;z-index: 1;}#sk-container-id-4 div.sk-parallel {display: flex;align-items: stretch;justify-content: center;background-color: white;position: relative;}#sk-container-id-4 div.sk-item::before, #sk-container-id-4 div.sk-parallel-item::before {content: \"\";position: absolute;border-left: 1px solid gray;box-sizing: border-box;top: 0;bottom: 0;left: 50%;z-index: -1;}#sk-container-id-4 div.sk-parallel-item {display: flex;flex-direction: column;z-index: 1;position: relative;background-color: white;}#sk-container-id-4 div.sk-parallel-item:first-child::after {align-self: flex-end;width: 50%;}#sk-container-id-4 div.sk-parallel-item:last-child::after {align-self: flex-start;width: 50%;}#sk-container-id-4 div.sk-parallel-item:only-child::after {width: 0;}#sk-container-id-4 div.sk-dashed-wrapped {border: 1px dashed gray;margin: 0 0.4em 0.5em 0.4em;box-sizing: border-box;padding-bottom: 0.4em;background-color: white;}#sk-container-id-4 div.sk-label label {font-family: monospace;font-weight: bold;display: inline-block;line-height: 1.2em;}#sk-container-id-4 div.sk-label-container {text-align: center;}#sk-container-id-4 div.sk-container {/* jupyter's `normalize.less` sets `[hidden] { display: none; }` but bootstrap.min.css set `[hidden] { display: none !important; }` so we also need the `!important` here to be able to override the default hidden behavior on the sphinx rendered scikit-learn.org. See: https://github.com/scikit-learn/scikit-learn/issues/21755 */display: inline-block !important;position: relative;}#sk-container-id-4 div.sk-text-repr-fallback {display: none;}</style><div id=\"sk-container-id-4\" class=\"sk-top-container\"><div class=\"sk-text-repr-fallback\"><pre>DecisionTreeRegressor()</pre><b>In a Jupyter environment, please rerun this cell to show the HTML representation or trust the notebook. <br />On GitHub, the HTML representation is unable to render, please try loading this page with nbviewer.org.</b></div><div class=\"sk-container\" hidden><div class=\"sk-item\"><div class=\"sk-estimator sk-toggleable\"><input class=\"sk-toggleable__control sk-hidden--visually\" id=\"sk-estimator-id-4\" type=\"checkbox\" checked><label for=\"sk-estimator-id-4\" class=\"sk-toggleable__label sk-toggleable__label-arrow\">DecisionTreeRegressor</label><div class=\"sk-toggleable__content\"><pre>DecisionTreeRegressor()</pre></div></div></div></div></div>"
      ],
      "text/plain": [
       "DecisionTreeRegressor()"
      ]
     },
     "execution_count": 70,
     "metadata": {},
     "output_type": "execute_result"
    }
   ],
   "source": [
    "DT.fit(X_train, y_train)"
   ]
  },
  {
   "cell_type": "code",
   "execution_count": 71,
   "id": "dac471c3-ce7e-4b05-bae5-16f5e6091ea1",
   "metadata": {},
   "outputs": [],
   "source": [
    "y_pred = DT.predict(X_test)"
   ]
  },
  {
   "cell_type": "code",
   "execution_count": 72,
   "id": "d46bc746-b3dd-490b-8968-3c315f88eb8c",
   "metadata": {},
   "outputs": [
    {
     "data": {
      "text/plain": [
       "0.2196999219918847"
      ]
     },
     "execution_count": 72,
     "metadata": {},
     "output_type": "execute_result"
    }
   ],
   "source": [
    "r2_score(y_test, y_pred)"
   ]
  },
  {
   "cell_type": "code",
   "execution_count": 73,
   "id": "b6bc1de5-54a6-4839-806d-1f0f84a91a8d",
   "metadata": {},
   "outputs": [
    {
     "data": {
      "text/plain": [
       "0.17446513486097948"
      ]
     },
     "execution_count": 73,
     "metadata": {},
     "output_type": "execute_result"
    }
   ],
   "source": [
    "adjusted_r2_score = 1 - ( 1-r2_score(y_test, y_pred) ) * ( len(y_pred) - 1 ) / ( len(y_pred) - X_train.shape[1] - 1 )\n",
    "adjusted_r2_score"
   ]
  },
  {
   "cell_type": "markdown",
   "id": "3e800e86-0322-47e4-aa05-16981779cd29",
   "metadata": {},
   "source": [
    "## model using RandomForest"
   ]
  },
  {
   "cell_type": "code",
   "execution_count": 75,
   "id": "75eb41f0-0451-4f69-80a9-eaedab302589",
   "metadata": {},
   "outputs": [],
   "source": [
    "from sklearn.ensemble import RandomForestRegressor"
   ]
  },
  {
   "cell_type": "code",
   "execution_count": 76,
   "id": "d2645b9f-c50f-4f05-ab76-14db6dcf59bb",
   "metadata": {},
   "outputs": [],
   "source": [
    "RF = RandomForestRegressor()"
   ]
  },
  {
   "cell_type": "code",
   "execution_count": 77,
   "id": "07751974-1fe6-4c6e-a062-e3bd740e4a34",
   "metadata": {},
   "outputs": [
    {
     "data": {
      "text/html": [
       "<style>#sk-container-id-5 {color: black;background-color: white;}#sk-container-id-5 pre{padding: 0;}#sk-container-id-5 div.sk-toggleable {background-color: white;}#sk-container-id-5 label.sk-toggleable__label {cursor: pointer;display: block;width: 100%;margin-bottom: 0;padding: 0.3em;box-sizing: border-box;text-align: center;}#sk-container-id-5 label.sk-toggleable__label-arrow:before {content: \"▸\";float: left;margin-right: 0.25em;color: #696969;}#sk-container-id-5 label.sk-toggleable__label-arrow:hover:before {color: black;}#sk-container-id-5 div.sk-estimator:hover label.sk-toggleable__label-arrow:before {color: black;}#sk-container-id-5 div.sk-toggleable__content {max-height: 0;max-width: 0;overflow: hidden;text-align: left;background-color: #f0f8ff;}#sk-container-id-5 div.sk-toggleable__content pre {margin: 0.2em;color: black;border-radius: 0.25em;background-color: #f0f8ff;}#sk-container-id-5 input.sk-toggleable__control:checked~div.sk-toggleable__content {max-height: 200px;max-width: 100%;overflow: auto;}#sk-container-id-5 input.sk-toggleable__control:checked~label.sk-toggleable__label-arrow:before {content: \"▾\";}#sk-container-id-5 div.sk-estimator input.sk-toggleable__control:checked~label.sk-toggleable__label {background-color: #d4ebff;}#sk-container-id-5 div.sk-label input.sk-toggleable__control:checked~label.sk-toggleable__label {background-color: #d4ebff;}#sk-container-id-5 input.sk-hidden--visually {border: 0;clip: rect(1px 1px 1px 1px);clip: rect(1px, 1px, 1px, 1px);height: 1px;margin: -1px;overflow: hidden;padding: 0;position: absolute;width: 1px;}#sk-container-id-5 div.sk-estimator {font-family: monospace;background-color: #f0f8ff;border: 1px dotted black;border-radius: 0.25em;box-sizing: border-box;margin-bottom: 0.5em;}#sk-container-id-5 div.sk-estimator:hover {background-color: #d4ebff;}#sk-container-id-5 div.sk-parallel-item::after {content: \"\";width: 100%;border-bottom: 1px solid gray;flex-grow: 1;}#sk-container-id-5 div.sk-label:hover label.sk-toggleable__label {background-color: #d4ebff;}#sk-container-id-5 div.sk-serial::before {content: \"\";position: absolute;border-left: 1px solid gray;box-sizing: border-box;top: 0;bottom: 0;left: 50%;z-index: 0;}#sk-container-id-5 div.sk-serial {display: flex;flex-direction: column;align-items: center;background-color: white;padding-right: 0.2em;padding-left: 0.2em;position: relative;}#sk-container-id-5 div.sk-item {position: relative;z-index: 1;}#sk-container-id-5 div.sk-parallel {display: flex;align-items: stretch;justify-content: center;background-color: white;position: relative;}#sk-container-id-5 div.sk-item::before, #sk-container-id-5 div.sk-parallel-item::before {content: \"\";position: absolute;border-left: 1px solid gray;box-sizing: border-box;top: 0;bottom: 0;left: 50%;z-index: -1;}#sk-container-id-5 div.sk-parallel-item {display: flex;flex-direction: column;z-index: 1;position: relative;background-color: white;}#sk-container-id-5 div.sk-parallel-item:first-child::after {align-self: flex-end;width: 50%;}#sk-container-id-5 div.sk-parallel-item:last-child::after {align-self: flex-start;width: 50%;}#sk-container-id-5 div.sk-parallel-item:only-child::after {width: 0;}#sk-container-id-5 div.sk-dashed-wrapped {border: 1px dashed gray;margin: 0 0.4em 0.5em 0.4em;box-sizing: border-box;padding-bottom: 0.4em;background-color: white;}#sk-container-id-5 div.sk-label label {font-family: monospace;font-weight: bold;display: inline-block;line-height: 1.2em;}#sk-container-id-5 div.sk-label-container {text-align: center;}#sk-container-id-5 div.sk-container {/* jupyter's `normalize.less` sets `[hidden] { display: none; }` but bootstrap.min.css set `[hidden] { display: none !important; }` so we also need the `!important` here to be able to override the default hidden behavior on the sphinx rendered scikit-learn.org. See: https://github.com/scikit-learn/scikit-learn/issues/21755 */display: inline-block !important;position: relative;}#sk-container-id-5 div.sk-text-repr-fallback {display: none;}</style><div id=\"sk-container-id-5\" class=\"sk-top-container\"><div class=\"sk-text-repr-fallback\"><pre>RandomForestRegressor()</pre><b>In a Jupyter environment, please rerun this cell to show the HTML representation or trust the notebook. <br />On GitHub, the HTML representation is unable to render, please try loading this page with nbviewer.org.</b></div><div class=\"sk-container\" hidden><div class=\"sk-item\"><div class=\"sk-estimator sk-toggleable\"><input class=\"sk-toggleable__control sk-hidden--visually\" id=\"sk-estimator-id-5\" type=\"checkbox\" checked><label for=\"sk-estimator-id-5\" class=\"sk-toggleable__label sk-toggleable__label-arrow\">RandomForestRegressor</label><div class=\"sk-toggleable__content\"><pre>RandomForestRegressor()</pre></div></div></div></div></div>"
      ],
      "text/plain": [
       "RandomForestRegressor()"
      ]
     },
     "execution_count": 77,
     "metadata": {},
     "output_type": "execute_result"
    }
   ],
   "source": [
    "RF.fit(X_train, y_train)"
   ]
  },
  {
   "cell_type": "code",
   "execution_count": 78,
   "id": "cccb6b9c-e0a2-4e5f-9e3a-b4caac8e49d6",
   "metadata": {},
   "outputs": [],
   "source": [
    "y_pred = RF.predict(X_test)"
   ]
  },
  {
   "cell_type": "code",
   "execution_count": 79,
   "id": "844223fb-8daf-454a-b569-995c047205d2",
   "metadata": {},
   "outputs": [
    {
     "data": {
      "text/plain": [
       "0.5577833635403597"
      ]
     },
     "execution_count": 79,
     "metadata": {},
     "output_type": "execute_result"
    }
   ],
   "source": [
    "r2_score(y_test, y_pred)"
   ]
  },
  {
   "cell_type": "code",
   "execution_count": 80,
   "id": "94f62506-9b4b-4025-b7b5-60892173cf3a",
   "metadata": {},
   "outputs": [
    {
     "data": {
      "text/plain": [
       "0.5321476164992212"
      ]
     },
     "execution_count": 80,
     "metadata": {},
     "output_type": "execute_result"
    }
   ],
   "source": [
    "adjusted_r2_score = 1 - ( 1-r2_score(y_test, y_pred) ) * ( len(y_pred) - 1 ) / ( len(y_pred) - X_train.shape[1] - 1 )\n",
    "adjusted_r2_score"
   ]
  },
  {
   "cell_type": "code",
   "execution_count": null,
   "id": "b6bb16fc-1c5d-45bd-9874-fd9bb308d1ec",
   "metadata": {},
   "outputs": [],
   "source": []
  },
  {
   "cell_type": "code",
   "execution_count": null,
   "id": "ed3b4715-774f-4e4d-bb2e-d1b5f04ee99d",
   "metadata": {},
   "outputs": [],
   "source": []
  }
 ],
 "metadata": {
  "kernelspec": {
   "display_name": "Python 3 (ipykernel)",
   "language": "python",
   "name": "python3"
  },
  "language_info": {
   "codemirror_mode": {
    "name": "ipython",
    "version": 3
   },
   "file_extension": ".py",
   "mimetype": "text/x-python",
   "name": "python",
   "nbconvert_exporter": "python",
   "pygments_lexer": "ipython3",
   "version": "3.10.15"
  }
 },
 "nbformat": 4,
 "nbformat_minor": 5
}
